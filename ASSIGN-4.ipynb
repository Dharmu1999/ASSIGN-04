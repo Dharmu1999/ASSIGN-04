{
 "cells": [
  {
   "cell_type": "markdown",
   "id": "1b33d4e6-57f2-4bd3-bb7f-d61d3c1a9ee0",
   "metadata": {},
   "source": [
    "## Q-1 Which keyword is used to create a function? Create a function to return a list of odd numbers in the range of 1 to 25 ?"
   ]
  },
  {
   "cell_type": "code",
   "execution_count": 1,
   "id": "98a8871c-c284-439f-b804-8bc2ba979681",
   "metadata": {},
   "outputs": [
    {
     "name": "stdout",
     "output_type": "stream",
     "text": [
      "[1, 3, 5, 7, 9, 11, 13, 15, 17, 19, 21, 23, 25]\n"
     ]
    }
   ],
   "source": [
    "# ANS\n",
    "def get_odd_numbers():\n",
    "    odd_numbers = []\n",
    "    for num in range(1, 26):\n",
    "        if num % 2 != 0:\n",
    "            odd_numbers.append(num)\n",
    "    return odd_numbers\n",
    "\n",
    "# Call the function and store the result in a variable\n",
    "result = get_odd_numbers()\n",
    "\n",
    "# Print the result\n",
    "print(result)\n"
   ]
  },
  {
   "cell_type": "markdown",
   "id": "47248b1b-ae3d-4d2f-b45a-10a6ac43be8e",
   "metadata": {},
   "source": [
    "## Q-2 Why *args and **kwargs is used in some functions? Create a function each for *args and **kwargs\n",
    "to demonstrate their use?"
   ]
  },
  {
   "cell_type": "code",
   "execution_count": 2,
   "id": "8f98e4a2-d54f-4adf-a123-c32cef7795bd",
   "metadata": {},
   "outputs": [
    {
     "name": "stdout",
     "output_type": "stream",
     "text": [
      "Hello, Alice!\n",
      "Hello, Bob!\n",
      "Hello, Charlie!\n"
     ]
    }
   ],
   "source": [
    "# ANS\n",
    "def greet(*args):\n",
    "    for name in args:\n",
    "        print(\"Hello, \" + name + \"!\")\n",
    "\n",
    "# Call the function with multiple arguments\n",
    "greet(\"Alice\", \"Bob\", \"Charlie\")\n"
   ]
  },
  {
   "cell_type": "code",
   "execution_count": 3,
   "id": "0ebdcfb7-6ab2-4ad8-827a-44838a7c9101",
   "metadata": {},
   "outputs": [
    {
     "name": "stdout",
     "output_type": "stream",
     "text": [
      "name: Alice\n",
      "age: 30\n",
      "city: New York\n"
     ]
    }
   ],
   "source": [
    "def print_person(**kwargs):\n",
    "    for key, value in kwargs.items():\n",
    "        print(key + \": \" + value)\n",
    "\n",
    "# Call the function with multiple keyword arguments\n",
    "print_person(name=\"Alice\", age=\"30\", city=\"New York\")\n"
   ]
  },
  {
   "cell_type": "markdown",
   "id": "42a42326-648a-4180-8ba7-014db61d9e1d",
   "metadata": {},
   "source": [
    "## Q-3 What is an iterator in python? Name the method used to initialise the iterator object and the methodused for iteration. Use these methods to print the first five elements of the given list [2, 4, 6, 8, 10, 12, 14,\n",
    "16, 18, 20?"
   ]
  },
  {
   "cell_type": "code",
   "execution_count": 7,
   "id": "b876c400-f674-49c6-beb0-df053cb86394",
   "metadata": {},
   "outputs": [
    {
     "name": "stdout",
     "output_type": "stream",
     "text": [
      "2\n",
      "4\n",
      "6\n",
      "8\n",
      "10\n"
     ]
    }
   ],
   "source": [
    "# ANS\n",
    "class ListIterator:\n",
    "    def __init__(self, lst):\n",
    "        self.lst = lst\n",
    "        self.index = 0\n",
    "\n",
    "    def __iter__(self):\n",
    "        return self\n",
    "\n",
    "    def __next__(self):\n",
    "        if self.index >= len(self.lst):\n",
    "            raise StopIteration\n",
    "        else:\n",
    "            self.index += 1\n",
    "            return self.lst[self.index - 1]\n",
    "\n",
    "# Create an instance of ListIterator for the given list\n",
    "my_list = [2, 4, 6, 8, 10, 12, 14, 16, 18, 20]\n",
    "my_iterator = ListIterator(my_list)\n",
    "\n",
    "# Iterate through the first five elements using a for loop\n",
    "for i in range(5):\n",
    "    print(next(my_iterator))\n"
   ]
  },
  {
   "cell_type": "markdown",
   "id": "50aeeb7e-b13b-45ac-af3b-c7c2d74b726a",
   "metadata": {},
   "source": [
    "## Q-4 What is a generator function in python? Why yield keyword is used? Give an example of a generator function?"
   ]
  },
  {
   "cell_type": "code",
   "execution_count": 8,
   "id": "8f464991-93b9-430a-be42-031da2b2423e",
   "metadata": {},
   "outputs": [
    {
     "name": "stdout",
     "output_type": "stream",
     "text": [
      "0\n",
      "1\n",
      "1\n",
      "2\n",
      "3\n",
      "5\n",
      "8\n",
      "13\n",
      "21\n",
      "34\n"
     ]
    }
   ],
   "source": [
    "# ANS\n",
    "def fibonacci():\n",
    "    a, b = 0, 1\n",
    "    while True:\n",
    "        yield a\n",
    "        a, b = b, a + b\n",
    "\n",
    "# Create an instance of the Fibonacci generator\n",
    "fib_gen = fibonacci()\n",
    "\n",
    "# Iterate through the first 10 Fibonacci numbers\n",
    "for i in range(10):\n",
    "    print(next(fib_gen))\n"
   ]
  },
  {
   "cell_type": "markdown",
   "id": "68ff0387-5070-48f6-b55f-5f444cac3f48",
   "metadata": {},
   "source": [
    "## Q-5 Create a generator function for prime numbers less than 1000. Use the next() method to print thefirst 20 prime numbers.?"
   ]
  },
  {
   "cell_type": "code",
   "execution_count": 9,
   "id": "a316116f-8909-4965-abb9-b5d2bd35c6a6",
   "metadata": {},
   "outputs": [
    {
     "name": "stdout",
     "output_type": "stream",
     "text": [
      "2\n",
      "3\n",
      "5\n",
      "7\n",
      "11\n",
      "13\n",
      "17\n",
      "19\n",
      "23\n",
      "29\n",
      "31\n",
      "37\n",
      "41\n",
      "43\n",
      "47\n",
      "53\n",
      "59\n",
      "61\n",
      "67\n",
      "71\n"
     ]
    }
   ],
   "source": [
    "def primes():\n",
    "    \"\"\"Generator function to generate prime numbers less than 1000\"\"\"\n",
    "    # Initial list of numbers from 2 to 1000\n",
    "    numbers = list(range(2, 1000))\n",
    "    while numbers:\n",
    "        # Get the first number from the list (which is a prime number)\n",
    "        prime = numbers[0]\n",
    "        yield prime\n",
    "        # Remove all multiples of the prime number from the list\n",
    "        numbers = [num for num in numbers if num % prime != 0]\n",
    "\n",
    "# Create an instance of the primes generator\n",
    "prime_gen = primes()\n",
    "\n",
    "# Print the first 20 prime numbers using the next() method\n",
    "for i in range(20):\n",
    "    print(next(prime_gen))\n"
   ]
  },
  {
   "cell_type": "markdown",
   "id": "9a3d5d90-9115-45a0-a564-6c3e1ff3cafc",
   "metadata": {},
   "source": [
    "## Q-6 Write a python program to print the first 10 Fibonacci numbers using a while loop.?"
   ]
  },
  {
   "cell_type": "code",
   "execution_count": 10,
   "id": "d079910e-5096-4bb8-a836-06c185c76507",
   "metadata": {},
   "outputs": [
    {
     "name": "stdout",
     "output_type": "stream",
     "text": [
      "0\n",
      "1\n",
      "1\n",
      "2\n",
      "3\n",
      "5\n",
      "8\n",
      "13\n",
      "21\n",
      "34\n"
     ]
    }
   ],
   "source": [
    "# ANS\n",
    "# Function to generate Fibonacci numbers using while loop\n",
    "def fibonacci():\n",
    "    a, b = 0, 1\n",
    "    while True:\n",
    "        yield a\n",
    "        a, b = b, a + b\n",
    "\n",
    "# Create an instance of the Fibonacci generator\n",
    "fib_gen = fibonacci()\n",
    "\n",
    "# Print the first 10 Fibonacci numbers\n",
    "count = 0\n",
    "while count < 10:\n",
    "    print(next(fib_gen))\n",
    "    count += 1\n"
   ]
  },
  {
   "cell_type": "markdown",
   "id": "119e2b44-37cd-4bcd-a189-a2e414bab543",
   "metadata": {},
   "source": [
    "## Q-7 Write a List Comprehension to iterate through the given string: ‘pwskills’.Expected output: ['p', 'w', 's', 'k', 'i', 'l', 'l', 's'] ?"
   ]
  },
  {
   "cell_type": "code",
   "execution_count": 11,
   "id": "cd3e3ab6-b7d5-46a4-81d8-9d53a51fb00e",
   "metadata": {},
   "outputs": [
    {
     "name": "stdout",
     "output_type": "stream",
     "text": [
      "['p', 'w', 's', 'k', 'i', 'l', 'l', 's']\n"
     ]
    }
   ],
   "source": [
    "# ANS\n",
    "string = 'pwskills'\n",
    "result = [char for char in string]\n",
    "print(result)\n"
   ]
  },
  {
   "cell_type": "markdown",
   "id": "d0ef0573-cc99-4d7b-aa18-70e27b2800b6",
   "metadata": {},
   "source": [
    "## Q-8 Write a python program to check whether a given number is Palindrome or not using a while loop.?"
   ]
  },
  {
   "cell_type": "code",
   "execution_count": 12,
   "id": "b2580e88-ec86-47a5-8b4c-c7bad3ace041",
   "metadata": {},
   "outputs": [
    {
     "name": "stdin",
     "output_type": "stream",
     "text": [
      "Enter a number:  8\n"
     ]
    },
    {
     "name": "stdout",
     "output_type": "stream",
     "text": [
      "8 is a palindrome.\n"
     ]
    }
   ],
   "source": [
    "# ANS\n",
    "def is_palindrome(num):\n",
    "    \"\"\"Function to check whether a given number is palindrome or not\"\"\"\n",
    "    original_num = num\n",
    "    reversed_num = 0\n",
    "    while num > 0:\n",
    "        # Extract the last digit\n",
    "        digit = num % 10\n",
    "        # Add the digit to the reversed number\n",
    "        reversed_num = reversed_num * 10 + digit\n",
    "        # Remove the last digit from the original number\n",
    "        num = num // 10\n",
    "    # Compare the reversed number with the original number\n",
    "    if original_num == reversed_num:\n",
    "        return True\n",
    "    else:\n",
    "        return False\n",
    "\n",
    "# Input the number to check for palindrome\n",
    "num = int(input(\"Enter a number: \"))\n",
    "\n",
    "# Call the is_palindrome function and print the result\n",
    "if is_palindrome(num):\n",
    "    print(num, \"is a palindrome.\")\n",
    "else:\n",
    "    print(num, \"is not a palindrome.\")\n"
   ]
  },
  {
   "cell_type": "markdown",
   "id": "f12cda48-e65f-4d3a-ba1f-d147ba98698c",
   "metadata": {},
   "source": [
    "## Q-9 Write a code to print odd numbers from 1 to 100 using list comprehension.?\n",
    "\n"
   ]
  },
  {
   "cell_type": "code",
   "execution_count": 13,
   "id": "f778b59f-2400-4bc7-8f28-8cbffd0147e4",
   "metadata": {},
   "outputs": [
    {
     "name": "stdout",
     "output_type": "stream",
     "text": [
      "[1, 3, 5, 7, 9, 11, 13, 15, 17, 19, 21, 23, 25, 27, 29, 31, 33, 35, 37, 39, 41, 43, 45, 47, 49, 51, 53, 55, 57, 59, 61, 63, 65, 67, 69, 71, 73, 75, 77, 79, 81, 83, 85, 87, 89, 91, 93, 95, 97, 99]\n"
     ]
    }
   ],
   "source": [
    "# ANS\n",
    "# Using list comprehension to generate a list of odd numbers from 1 to 100\n",
    "odd_numbers = [num for num in range(1, 101) if num % 2 != 0]\n",
    "\n",
    "# Printing the list of odd numbers\n",
    "print(odd_numbers)\n"
   ]
  },
  {
   "cell_type": "code",
   "execution_count": null,
   "id": "d90af311-e98f-4583-b351-bbfd02d0323e",
   "metadata": {},
   "outputs": [],
   "source": [
    "## THANS"
   ]
  }
 ],
 "metadata": {
  "kernelspec": {
   "display_name": "Python 3 (ipykernel)",
   "language": "python",
   "name": "python3"
  },
  "language_info": {
   "codemirror_mode": {
    "name": "ipython",
    "version": 3
   },
   "file_extension": ".py",
   "mimetype": "text/x-python",
   "name": "python",
   "nbconvert_exporter": "python",
   "pygments_lexer": "ipython3",
   "version": "3.10.8"
  }
 },
 "nbformat": 4,
 "nbformat_minor": 5
}
